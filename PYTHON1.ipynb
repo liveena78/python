{
  "nbformat": 4,
  "nbformat_minor": 0,
  "metadata": {
    "colab": {
      "name": "PYTHON1.ipynb",
      "provenance": [],
      "collapsed_sections": [],
      "include_colab_link": true
    },
    "kernelspec": {
      "name": "python3",
      "display_name": "Python 3"
    },
    "language_info": {
      "name": "python"
    }
  },
  "cells": [
    {
      "cell_type": "markdown",
      "metadata": {
        "id": "view-in-github",
        "colab_type": "text"
      },
      "source": [
        "<a href=\"https://colab.research.google.com/github/liveena78/python/blob/main/PYTHON1.ipynb\" target=\"_parent\"><img src=\"https://colab.research.google.com/assets/colab-badge.svg\" alt=\"Open In Colab\"/></a>"
      ]
    },
    {
      "cell_type": "markdown",
      "metadata": {
        "id": "h0klLa3GqkCh"
      },
      "source": [
        "EXCERCISE-1\n"
      ]
    },
    {
      "cell_type": "markdown",
      "metadata": {
        "id": "lnpGy5EF14_i"
      },
      "source": [
        "a) Running instructions in interactive intrepreter and a Python Script"
      ]
    },
    {
      "cell_type": "code",
      "metadata": {
        "colab": {
          "base_uri": "https://localhost:8080/"
        },
        "id": "TGnJI9qd2rC7",
        "outputId": "44344165-22f6-4206-b05b-8aa1e70ec699"
      },
      "source": [
        "5+7"
      ],
      "execution_count": null,
      "outputs": [
        {
          "output_type": "execute_result",
          "data": {
            "text/plain": [
              "12"
            ]
          },
          "metadata": {
            "tags": []
          },
          "execution_count": 1
        }
      ]
    },
    {
      "cell_type": "markdown",
      "metadata": {
        "id": "Eu4LgUzj28vo"
      },
      "source": [
        "b) Write a program to purposefully raise indentation error and correct it"
      ]
    },
    {
      "cell_type": "code",
      "metadata": {
        "colab": {
          "base_uri": "https://localhost:8080/"
        },
        "id": "BMqjxNPQ3PvA",
        "outputId": "5393d8c0-83a7-4504-bbea-a2b457a55b5e"
      },
      "source": [
        "if 15>7:\n",
        "#print(\"True\")\n",
        "    print(\"tRUE\")    #above line gives an indentation error and in this line the error is corrected"
      ],
      "execution_count": null,
      "outputs": [
        {
          "output_type": "stream",
          "text": [
            "tRUE\n"
          ],
          "name": "stdout"
        }
      ]
    },
    {
      "cell_type": "markdown",
      "metadata": {
        "id": "rCPa0ZNf-ikN"
      },
      "source": [
        "EXCERSICE 2:OPERATIONS\n",
        "\n",
        "a)Write a program to compute distance between two points taking input from the user"
      ]
    },
    {
      "cell_type": "code",
      "metadata": {
        "colab": {
          "base_uri": "https://localhost:8080/",
          "height": 129
        },
        "id": "Aeh6PDKa--vy",
        "outputId": "d3c55307-0173-4640-d982-62bd9b43a4e9"
      },
      "source": [
        "#Way1\n",
        "x1=int(input(\"Enter X1 point:\"))\n",
        "y1=int(input(\"Enter Y1 point:\"))\n",
        "x2=int(input(\"Enter X2 point:\"))\n",
        "y2=int(input(\"Enter Y2 point:\"))\n",
        "dis=((((x2-x1) ** 2)+((y2-y1) ** 2)) ** 0.5)\n",
        "print(\"Distance between two points:\",dis)"
      ],
      "execution_count": null,
      "outputs": [
        {
          "output_type": "error",
          "ename": "SyntaxError",
          "evalue": "ignored",
          "traceback": [
            "\u001b[0;36m  File \u001b[0;32m\"<ipython-input-9-5bcb97f44943>\"\u001b[0;36m, line \u001b[0;32m5\u001b[0m\n\u001b[0;31m    int(res)=((((x2-x1) ** 2)+((y2-y1) ** 2)) ** 0.5)\u001b[0m\n\u001b[0m                                                     ^\u001b[0m\n\u001b[0;31mSyntaxError\u001b[0m\u001b[0;31m:\u001b[0m can't assign to function call\n"
          ]
        }
      ]
    },
    {
      "cell_type": "code",
      "metadata": {
        "colab": {
          "base_uri": "https://localhost:8080/"
        },
        "id": "HTd3Tg4sC81k",
        "outputId": "2d6b0c1c-3816-414a-ac6f-b851671e12c3"
      },
      "source": [
        "#Way2\n",
        "import math\n",
        "x1=int(input(\"Enter X1 point:\"))\n",
        "y1=int(input(\"Enter Y1 point:\"))\n",
        "x2=int(input(\"Enter X2 point:\"))\n",
        "y2=int(input(\"Enter Y2 point:\"))\n",
        "dis=math.sqrt(math.pow(x2 - x1, 2) +math.pow(y2 - y1, 2) * 1.0)\n",
        "print(dis)"
      ],
      "execution_count": null,
      "outputs": [
        {
          "output_type": "stream",
          "text": [
            "Enter X1 point:4\n",
            "Enter Y1 point:3\n",
            "Enter X2 point:0\n",
            "Enter Y2 point:0\n",
            "5.0\n"
          ],
          "name": "stdout"
        }
      ]
    },
    {
      "cell_type": "markdown",
      "metadata": {
        "id": "uyGme3DfDdCw"
      },
      "source": [
        "b)Write a program that add.py that takes 2 numbers as command line arguments and prints its sum"
      ]
    },
    {
      "cell_type": "code",
      "metadata": {
        "id": "3qpfQm0SDxdo"
      },
      "source": [
        "#import sys\n",
        "#x=int(sys.argv[1])\n",
        "#y=int(sys. argv[2])\n",
        "#sum=x+y\n",
        "#print(\"The addition is :\",sum)\n",
        "# there is no command line argument passing in collab if there the execution will be like below\n",
        "#C:\\Users\\dell\\AppData\\Local\\Programs\\Python\\Python39>sum.py 7 3 #passing command line arguments\n",
        "#The addition is : 10 output line"
      ],
      "execution_count": null,
      "outputs": []
    },
    {
      "cell_type": "markdown",
      "metadata": {
        "id": "cLEfI-JiEJmK"
      },
      "source": [
        ""
      ]
    },
    {
      "cell_type": "markdown",
      "metadata": {
        "id": "3YefCA1qTMWn"
      },
      "source": [
        "EXCERCISE:3.CONTROL FLOW"
      ]
    },
    {
      "cell_type": "markdown",
      "metadata": {
        "id": "D5bKOZVP-bGx"
      },
      "source": [
        "a)Write a program to test wheter the given number is even or not"
      ]
    },
    {
      "cell_type": "code",
      "metadata": {
        "colab": {
          "base_uri": "https://localhost:8080/"
        },
        "id": "VvB2pBaV-naJ",
        "outputId": "1f26718d-8d86-40bd-e6a9-90a9639ff9a0"
      },
      "source": [
        "a=int(input(\"Enter a Number : \"));\n",
        "if(a%2==0):\n",
        "     print(\"This Number is Even\")\n",
        "else:\n",
        "     print(\"This Number is Odd\")"
      ],
      "execution_count": null,
      "outputs": [
        {
          "output_type": "stream",
          "text": [
            "Enter a Number : 5\n",
            "This Number is Odd\n"
          ],
          "name": "stdout"
        }
      ]
    },
    {
      "cell_type": "markdown",
      "metadata": {
        "id": "zu5yPdxv_lET"
      },
      "source": [
        "b)Using for loop ,write a program that prints out the decimal equivalent of 1/2,1/3,1/4...1/10"
      ]
    },
    {
      "cell_type": "code",
      "metadata": {
        "colab": {
          "base_uri": "https://localhost:8080/"
        },
        "id": "90Rko9JNAPe5",
        "outputId": "699e3ad8-e327-4d6d-a918-a4eb18c4088e"
      },
      "source": [
        "for i in range(2,11):\n",
        "\n",
        "     print((1/i),) "
      ],
      "execution_count": null,
      "outputs": [
        {
          "output_type": "stream",
          "text": [
            "0.5\n",
            "0.3333333333333333\n",
            "0.25\n",
            "0.2\n",
            "0.16666666666666666\n",
            "0.14285714285714285\n",
            "0.125\n",
            "0.1111111111111111\n",
            "0.1\n"
          ],
          "name": "stdout"
        }
      ]
    },
    {
      "cell_type": "markdown",
      "metadata": {
        "id": "GE98mCiDA0YR"
      },
      "source": [
        "c)Write a program that loops over a sequence .What is a sequence?"
      ]
    },
    {
      "cell_type": "markdown",
      "metadata": {
        "id": "dKO1ltEYCu2y"
      },
      "source": [
        "Sequences allow you to store multiple values in an organized and efficient way."
      ]
    },
    {
      "cell_type": "code",
      "metadata": {
        "id": "DyqHTmMeBFaq"
      },
      "source": [
        "#Sum of all the list elements \n",
        "Num=[1,2,3,4,5,6,7,8,9,10]\n",
        "Sum=0\n",
        "for i in Num:\n",
        "    Sum=Sum+i\n",
        "print(Sum)"
      ],
      "execution_count": null,
      "outputs": []
    },
    {
      "cell_type": "markdown",
      "metadata": {
        "id": "WA-YeA1yCGWh"
      },
      "source": [
        "d)Write a program using while loop that asks for the number and prints a countdown from that number to zero"
      ]
    },
    {
      "cell_type": "code",
      "metadata": {
        "colab": {
          "base_uri": "https://localhost:8080/"
        },
        "id": "Fmm9XZNxDG2X",
        "outputId": "087ec0ec-d95c-4567-c3f4-4655024a9ec9"
      },
      "source": [
        "num=int(input(\"Enter your number\"))\n",
        "while(num>=0):\n",
        "    print(num)\n",
        "    num=num-1"
      ],
      "execution_count": null,
      "outputs": [
        {
          "output_type": "stream",
          "text": [
            "Enter your number5\n",
            "5\n",
            "4\n",
            "3\n",
            "2\n",
            "1\n",
            "0\n",
            "Enter your number0\n"
          ],
          "name": "stdout"
        }
      ]
    },
    {
      "cell_type": "code",
      "metadata": {
        "id": "0bOpeMFPESav"
      },
      "source": [
        ""
      ],
      "execution_count": null,
      "outputs": []
    },
    {
      "cell_type": "markdown",
      "metadata": {
        "id": "QFfncd7IWIoB"
      },
      "source": [
        "EXCERCISE:4-CONTROLFLOW_CONT"
      ]
    },
    {
      "cell_type": "markdown",
      "metadata": {
        "id": "KBrTmMkKWUNB"
      },
      "source": [
        "a)Find sum of all the primes below two million "
      ]
    },
    {
      "cell_type": "code",
      "metadata": {
        "colab": {
          "base_uri": "https://localhost:8080/"
        },
        "id": "ejPFXg_udxd9",
        "outputId": "8e17242a-da07-4101-8578-ccfc514f087a"
      },
      "source": [
        "import math\n",
        "def check_prime(num):\n",
        "    if num > 2 and num % 2 == 0:\n",
        "        return False\n",
        "    else:\n",
        "      \n",
        "        for i in range(3, int(math.sqrt(num)) + 1, 2):\n",
        "            if num % i == 0:\n",
        "                return False\n",
        "    return True\n",
        "n=int(input(\"Enter number: \"))\n",
        "sum = 0\n",
        "for i in range(2, n):\n",
        "        if check_prime(i):\n",
        "            print(i)\n",
        "            sum += i\n",
        "print(sum)"
      ],
      "execution_count": null,
      "outputs": [
        {
          "output_type": "stream",
          "text": [
            "Enter number: 9\n",
            "2\n",
            "3\n",
            "5\n",
            "7\n",
            "17\n"
          ],
          "name": "stdout"
        }
      ]
    },
    {
      "cell_type": "markdown",
      "metadata": {
        "id": "FHNvFVJ_mzJm"
      },
      "source": [
        "b)Find the sum of even terms in fibonacci series below four milions"
      ]
    },
    {
      "cell_type": "code",
      "metadata": {
        "colab": {
          "base_uri": "https://localhost:8080/"
        },
        "id": "7wHItodErW7-",
        "outputId": "9f0521e8-f7e4-4e97-e193-e3ada7cf3171"
      },
      "source": [
        " a=0\n",
        "b=2\n",
        "sum=a+b\n",
        "n=int(input(\"Enter limit:\"))\n",
        "while (b<=n) :\n",
        "        c=4*b+a\n",
        "        if (c> n) :\n",
        "           break\n",
        "        a=b\n",
        "        b=c\n",
        "        sum=sum+c\n",
        "print(sum)"
      ],
      "execution_count": null,
      "outputs": [
        {
          "output_type": "stream",
          "text": [
            "Enter limit:50\n",
            "44\n"
          ],
          "name": "stdout"
        }
      ]
    },
    {
      "cell_type": "markdown",
      "metadata": {
        "id": "T4KJ8DRcwdED"
      },
      "source": [
        "EXCERCISE:5 DS\n",
        "\n",
        "A)Write a program to count the number of characters in the string and store them in a dictionary data structure"
      ]
    },
    {
      "cell_type": "code",
      "metadata": {
        "colab": {
          "background_save": true,
          "base_uri": "https://localhost:8080/"
        },
        "id": "ag2vn0kUxquA",
        "outputId": "ea39681b-3d07-4bb9-b7d8-410a8f5775fc"
      },
      "source": [
        "str=input(\"enter string : \")\n",
        "f = {} \n",
        "for i in str: \n",
        "    if i in f: \n",
        "        f[i] += 1\n",
        "    else: \n",
        "        f[i] = 1\n",
        "print(f)"
      ],
      "execution_count": null,
      "outputs": [
        {
          "output_type": "stream",
          "text": [
            "{'a': 1, 'b': 1, 'h': 1, 'i': 3}\n"
          ],
          "name": "stdout"
        }
      ]
    },
    {
      "cell_type": "markdown",
      "metadata": {
        "id": "_FkoUp7EE5LI"
      },
      "source": [
        "b)Write  a  program to use split and join methods in the string and trace a birthday with a dictionary data structure"
      ]
    },
    {
      "cell_type": "code",
      "metadata": {
        "colab": {
          "base_uri": "https://localhost:8080/"
        },
        "id": "eoZbge0JE-j4",
        "outputId": "540870cc-37e2-4fd0-a419-21544be6b3c3"
      },
      "source": [
        "dob={\"abhi\":\"24-nov-2001\",\"lasy\":\"20-june-2014\"}\n",
        "name=input(\"Which person dob do you want to find:\")\n",
        "I=name.split()\n",
        "birth=\"\"\n",
        "for i in I:\n",
        "  if i in dob.keys():\n",
        "        pers=i\n",
        "print(\"\".join([pers,\"  birthday is \",dob[pers]]))"
      ],
      "execution_count": null,
      "outputs": [
        {
          "output_type": "stream",
          "text": [
            "Which person dob do you want to find:abhi\n",
            "abhibirthday is24-nov-2001\n"
          ],
          "name": "stdout"
        }
      ]
    },
    {
      "cell_type": "code",
      "metadata": {
        "id": "-zDJwWBuCtGx"
      },
      "source": [
        ""
      ],
      "execution_count": null,
      "outputs": []
    },
    {
      "cell_type": "markdown",
      "metadata": {
        "id": "4nkRceIr5RHS"
      },
      "source": [
        "EXCERCISE:6-DS_CONT\n",
        "\n",
        "A)Write a program combinelists  thjat combines these lists into a dictionary"
      ]
    },
    {
      "cell_type": "code",
      "metadata": {
        "colab": {
          "base_uri": "https://localhost:8080/"
        },
        "id": "zrRTk8fs7Fxm",
        "outputId": "7f43398f-e85e-45f0-b7ff-617fe2296e29"
      },
      "source": [
        "name = [\"Abhi\", \"Madhu\", \"Chitti\"]\n",
        "age = [19, 24, 15]\n",
        "res = {name[i]: age[i] for i in range(len(age))}\n",
        "print (\"Resultant dictionary is : \" +  str(res))"
      ],
      "execution_count": null,
      "outputs": [
        {
          "output_type": "stream",
          "text": [
            "Resultant dictionary is : {'Abhi': 19, 'Madhu': 24, 'Chitti': 15}\n"
          ],
          "name": "stdout"
        }
      ]
    },
    {
      "cell_type": "markdown",
      "metadata": {
        "id": "YUTzn5lz70T7"
      },
      "source": [
        "b)Write a program to count frequency of characters in a given file.Can you charcter frequency to tell wheter the given file is python program file,c program file or text file"
      ]
    },
    {
      "cell_type": "code",
      "metadata": {
        "id": "Wz-k8nWmB33g"
      },
      "source": [
        "filetypes=['.py','.c','.txt'] \n",
        "fn=input(\"Enter the file name:\")\n",
        "f=open(fn,\"r\")\n",
        "count=dict()\n",
        "print(\"Given file is \",end='') \n",
        "for ft in filetypes:\n",
        "    if (ft in fn):\n",
        "      if(ft=='.py'):\n",
        "        print(\"Python File\")\n",
        "      elif (ft=='.txt'):\n",
        "        print(\"Text File\")\n",
        "      elif (ft=='.c'):\n",
        "        print(\"C File\")\n",
        "for line in f:\n",
        "  for ch in line:\n",
        "    if ch in count:\n",
        "      count[ch]=count[ch]+1\n",
        "    else:\n",
        "       count[ch]=1\n",
        "print(count)\n",
        "f.close()"
      ],
      "execution_count": null,
      "outputs": []
    },
    {
      "cell_type": "markdown",
      "metadata": {
        "id": "wU7EXFVlrR53"
      },
      "source": [
        "OUTPUT:\n",
        "\n",
        "Enter the file name:sum.py\n",
        "Given file is Python File\n",
        "{'i': 7, 'm': 3, 'p': 2, 'o': 2, 'r': 4, 't': 5, ' ': 5, 's': 9, 'y': 5, '\\n': 5, 'x': 2, '=': 3, 'n': 4, '(': 3, '.': 2, 'a': 3, 'g': 2, 'v': 2, '[': 2, '1': 1, ']': 2, ')': 3, '2': 1, 'u': 2, '+': 1, '\"': 2, 'T': 1, 'h': 1, 'e': 1, 'd': 2, ':': 1, ',': 1}"
      ]
    },
    {
      "cell_type": "markdown",
      "metadata": {
        "id": "-db3rKvhLab4"
      },
      "source": [
        ""
      ]
    },
    {
      "cell_type": "markdown",
      "metadata": {
        "id": "FPrnRsxXSgop"
      },
      "source": [
        " Exercise - 7 Files\n",
        " \n",
        "a) Write a program to print each line of a file in reverse order."
      ]
    },
    {
      "cell_type": "code",
      "metadata": {
        "colab": {
          "base_uri": "https://localhost:8080/",
          "height": 231
        },
        "id": "eS3BGHsHSjUd",
        "outputId": "b0eb8cf6-ca25-4acf-d5df-c0e081a8c3fc"
      },
      "source": [
        "ab=open(\"ab.txt\", \"r\")\n",
        "if ab:\n",
        "     st=ab.read()\n",
        "     print(\"File content is: \\n\",st)\n",
        "     ab.close()\n",
        "\n",
        "print()\n",
        "lines=st.split(\"\\n\")\n",
        "for ln in lines:\n",
        "    i=len(ln)-1\n",
        "    while(i>=0):\n",
        "        print(ln[i],end=\"\")\n",
        "        i=i-1\n",
        "print()\n",
        "    \n"
      ],
      "execution_count": null,
      "outputs": [
        {
          "output_type": "error",
          "ename": "FileNotFoundError",
          "evalue": "ignored",
          "traceback": [
            "\u001b[0;31m---------------------------------------------------------------------------\u001b[0m",
            "\u001b[0;31mFileNotFoundError\u001b[0m                         Traceback (most recent call last)",
            "\u001b[0;32m<ipython-input-11-2fe52576ea4b>\u001b[0m in \u001b[0;36m<module>\u001b[0;34m()\u001b[0m\n\u001b[0;32m----> 1\u001b[0;31m \u001b[0mab\u001b[0m\u001b[0;34m=\u001b[0m\u001b[0mopen\u001b[0m\u001b[0;34m(\u001b[0m\u001b[0;34m\"ab.txt\"\u001b[0m\u001b[0;34m,\u001b[0m \u001b[0;34m\"r\"\u001b[0m\u001b[0;34m)\u001b[0m\u001b[0;34m\u001b[0m\u001b[0;34m\u001b[0m\u001b[0m\n\u001b[0m\u001b[1;32m      2\u001b[0m \u001b[0;32mif\u001b[0m \u001b[0mab\u001b[0m\u001b[0;34m:\u001b[0m\u001b[0;34m\u001b[0m\u001b[0;34m\u001b[0m\u001b[0m\n\u001b[1;32m      3\u001b[0m      \u001b[0mst\u001b[0m\u001b[0;34m=\u001b[0m\u001b[0mab\u001b[0m\u001b[0;34m.\u001b[0m\u001b[0mread\u001b[0m\u001b[0;34m(\u001b[0m\u001b[0;34m)\u001b[0m\u001b[0;34m\u001b[0m\u001b[0;34m\u001b[0m\u001b[0m\n\u001b[1;32m      4\u001b[0m      \u001b[0mprint\u001b[0m\u001b[0;34m(\u001b[0m\u001b[0;34m\"File content is: \\n\"\u001b[0m\u001b[0;34m,\u001b[0m\u001b[0mst\u001b[0m\u001b[0;34m)\u001b[0m\u001b[0;34m\u001b[0m\u001b[0;34m\u001b[0m\u001b[0m\n\u001b[1;32m      5\u001b[0m      \u001b[0mab\u001b[0m\u001b[0;34m.\u001b[0m\u001b[0mclose\u001b[0m\u001b[0;34m(\u001b[0m\u001b[0;34m)\u001b[0m\u001b[0;34m\u001b[0m\u001b[0;34m\u001b[0m\u001b[0m\n",
            "\u001b[0;31mFileNotFoundError\u001b[0m: [Errno 2] No such file or directory: 'ab.txt'"
          ]
        }
      ]
    },
    {
      "cell_type": "markdown",
      "metadata": {
        "id": "lwt_pIq45Cm1"
      },
      "source": [
        "==== RESTART: C:\\Users\\dell\\AppData\\Local\\Programs\\Python\\Python39\\file2.py ====\n",
        "File content is: \n",
        " abhi CSE-A 530\n",
        "\n",
        "035 A-ESC ihba"
      ]
    },
    {
      "cell_type": "markdown",
      "metadata": {
        "id": "j3fRJIWlVBZP"
      },
      "source": [
        " b) Write a program to compute the number of characters, words and lines in a file."
      ]
    },
    {
      "cell_type": "code",
      "metadata": {
        "colab": {
          "base_uri": "https://localhost:8080/",
          "height": 428
        },
        "id": "HvhHX09cW7Ob",
        "outputId": "f5112977-58a1-4254-8322-45028ac59cc1"
      },
      "source": [
        " \n",
        "file__IO =\"D:\\\\ab\\\\files\\\\book\\\\python.txt\"\n",
        "with open(file__IO, 'r') as f:\n",
        "    data = f.read()\n",
        "    line = data.splitlines()\n",
        "    words = data.split()\n",
        "    spaces = data.split(\" \")\n",
        "    charc = (len(data) - len(spaces))\n",
        "print('\\n Line number ::', len(line), '\\n Words number ::', len(words), '\\n Spaces ::', len(spaces), '\\n Characters ::', (len(data)-len(spaces)))\n",
        " \n",
        "#output will be like:Line number :: 4 \n",
        "#Words number :: 29 \n",
        "#Spaces :: 26"
      ],
      "execution_count": null,
      "outputs": [
        {
          "output_type": "error",
          "ename": "FileNotFoundError",
          "evalue": "ignored",
          "traceback": [
            "\u001b[0;31m---------------------------------------------------------------------------\u001b[0m",
            "\u001b[0;31mFileNotFoundError\u001b[0m                         Traceback (most recent call last)",
            "\u001b[0;32m<ipython-input-4-00f8dcfae18b>\u001b[0m in \u001b[0;36m<module>\u001b[0;34m()\u001b[0m\n\u001b[1;32m      1\u001b[0m \u001b[0;34m\u001b[0m\u001b[0m\n\u001b[1;32m      2\u001b[0m \u001b[0mfile__IO\u001b[0m \u001b[0;34m=\u001b[0m\u001b[0;34m\"D:\\\\ab\\\\files\\\\book\\\\python.txt\"\u001b[0m\u001b[0;34m\u001b[0m\u001b[0;34m\u001b[0m\u001b[0m\n\u001b[0;32m----> 3\u001b[0;31m \u001b[0;32mwith\u001b[0m \u001b[0mopen\u001b[0m\u001b[0;34m(\u001b[0m\u001b[0mfile__IO\u001b[0m\u001b[0;34m,\u001b[0m \u001b[0;34m'r'\u001b[0m\u001b[0;34m)\u001b[0m \u001b[0;32mas\u001b[0m \u001b[0mf\u001b[0m\u001b[0;34m:\u001b[0m\u001b[0;34m\u001b[0m\u001b[0;34m\u001b[0m\u001b[0m\n\u001b[0m\u001b[1;32m      4\u001b[0m    \u001b[0mdata\u001b[0m \u001b[0;34m=\u001b[0m \u001b[0mf\u001b[0m\u001b[0;34m.\u001b[0m\u001b[0mread\u001b[0m\u001b[0;34m(\u001b[0m\u001b[0;34m)\u001b[0m\u001b[0;34m\u001b[0m\u001b[0;34m\u001b[0m\u001b[0m\n\u001b[1;32m      5\u001b[0m    \u001b[0mline\u001b[0m \u001b[0;34m=\u001b[0m \u001b[0mdata\u001b[0m\u001b[0;34m.\u001b[0m\u001b[0msplitlines\u001b[0m\u001b[0;34m(\u001b[0m\u001b[0;34m)\u001b[0m\u001b[0;34m\u001b[0m\u001b[0;34m\u001b[0m\u001b[0m\n",
            "\u001b[0;31mFileNotFoundError\u001b[0m: [Errno 2] No such file or directory: 'D:\\\\ab\\\\files\\\\book\\\\python.txt'"
          ]
        }
      ]
    },
    {
      "cell_type": "markdown",
      "metadata": {
        "id": "pI7DSzPaMCjv"
      },
      "source": [
        ""
      ]
    },
    {
      "cell_type": "code",
      "metadata": {
        "id": "KA57I2P1YNJg"
      },
      "source": [
        ""
      ],
      "execution_count": null,
      "outputs": []
    },
    {
      "cell_type": "markdown",
      "metadata": {
        "id": "WS-6jMKWYS0x"
      },
      "source": [
        " \n",
        "Exercise -8 Functions\n",
        " \n",
        "a) Write a function ball collide that takes two balls as parameters and computes if they arecolliding.\n",
        " \n",
        "Your function should return a Boolean representing whether or not the balls arecolliding."
      ]
    },
    {
      "cell_type": "code",
      "metadata": {
        "colab": {
          "base_uri": "https://localhost:8080/"
        },
        "id": "zECvF0LsYeM3",
        "outputId": "a552ef21-56db-4290-f731-69ac39db2403"
      },
      "source": [
        " import math\n",
        "def ball_collide(ball_tuple1,ball_tuple2):\n",
        "    d=math.sqrt((ball_tuple1[0]-ball_tuple2[0])**2 + \n",
        " \n",
        "(ball_tuple1[1]-ball_tuple2[1])**2)\n",
        "    if(d<=(ball_tuple1[2]+ball_tuple2[2])):\n",
        "        return True\n",
        "    else:\n",
        "        return False\n",
        " \n",
        "ball_tuple1=(-2,-2,3)\n",
        "ball_tuple2=(1,1,3)\n",
        "collision=ball_collide(ball_tuple1,ball_tuple2)\n",
        "if(collision):\n",
        "    print(\"Balls are collide.\")\n",
        "else:\n",
        "    print(\"Balls are not collide.\")"
      ],
      "execution_count": null,
      "outputs": [
        {
          "output_type": "stream",
          "text": [
            "Balls are collide.\n"
          ],
          "name": "stdout"
        }
      ]
    },
    {
      "cell_type": "markdown",
      "metadata": {
        "id": "mvOJr05yaOPU"
      },
      "source": [
        " b) Find mean, median, mode for the given set of numbers in a list."
      ]
    },
    {
      "cell_type": "code",
      "metadata": {
        "colab": {
          "base_uri": "https://localhost:8080/"
        },
        "id": "4TIcI2wvcvxc",
        "outputId": "c030aa36-e933-40b9-e490-e9e735881257"
      },
      "source": [
        " \n",
        "import numpy as np\n",
        "from scipy import stats\n",
        "lst = [] \n",
        "lst = [int(item) for item in input(\"Enter the list items : \").split()] \n",
        "mean= np.mean(lst)\n",
        "median = np.median(lst)\n",
        "mode= stats.mode(lst)\n",
        "print(\"Mean: \", mean)\n",
        "print(\"Median: \", median)\n",
        "print(\"Mode: \", mode)"
      ],
      "execution_count": null,
      "outputs": [
        {
          "output_type": "stream",
          "text": [
            "Enter the list items : 4 2 4 5 6 7 5 4 5 7 3 4 \n",
            "Mean:  4.666666666666667\n",
            "Median:  4.5\n",
            "Mode:  ModeResult(mode=array([4]), count=array([4]))\n"
          ],
          "name": "stdout"
        }
      ]
    },
    {
      "cell_type": "code",
      "metadata": {
        "id": "G8bT7OjxMSTn"
      },
      "source": [
        ""
      ],
      "execution_count": null,
      "outputs": []
    },
    {
      "cell_type": "markdown",
      "metadata": {
        "id": "Uhqn1WcIdVP0"
      },
      "source": [
        " EXCERCISE-9 Functions Continued\n",
        " \n",
        "a) Write a function nearly equal to test whether two strings are nearly equal. Two strings a and bare\n",
        " \n",
        "nearly equal when a can be generated by a single mutation on b."
      ]
    },
    {
      "cell_type": "code",
      "metadata": {
        "colab": {
          "base_uri": "https://localhost:8080/"
        },
        "id": "v1AvDQj5d1s4",
        "outputId": "77b588ef-e086-4c86-f48e-d243ed691277"
      },
      "source": [
        " \n",
        "string1 = input(\"Enter first string: \")\n",
        "string2 = input(\"Enter second string: \")\n",
        "if string1 == string2:\n",
        "    print(\"\\nBoth strings are equal to each other.\")\n",
        "    print(string1,\"==\",string2);\n",
        "else:\n",
        "    print(\"\\nStrings are not equal.\")\n",
        "    print(string1,\"!=\",string2);"
      ],
      "execution_count": null,
      "outputs": [
        {
          "output_type": "stream",
          "text": [
            "Enter first string: Abhi\n",
            "Enter second string: abhi\n",
            "\n",
            "Strings are not equal.\n",
            "Abhi != abhi\n"
          ],
          "name": "stdout"
        }
      ]
    },
    {
      "cell_type": "markdown",
      "metadata": {
        "id": "vb6DwVmXd_M1"
      },
      "source": [
        " b) Write a function dup to find all duplicates in the list."
      ]
    },
    {
      "cell_type": "code",
      "metadata": {
        "colab": {
          "base_uri": "https://localhost:8080/"
        },
        "id": "cAkNK2PHeDWl",
        "outputId": "8a11a9d9-fa3e-4d12-952c-d26ee2bc403c"
      },
      "source": [
        " \n",
        " \n",
        "from collections import Counter\n",
        "lst = [] \n",
        "lst = [int(item) for item in input(\"Enter the list items : \").split()] \n",
        "d = Counter(lst)\n",
        "print(d)\n",
        "new_lst = tuple([item for item in d if d[item]>1])\n",
        "print(new_lst)"
      ],
      "execution_count": null,
      "outputs": [
        {
          "output_type": "stream",
          "text": [
            "Enter the list items : 5 4 5 8 5 6 4 4\n",
            "Counter({5: 3, 4: 3, 8: 1, 6: 1})\n",
            "(5, 4)\n"
          ],
          "name": "stdout"
        }
      ]
    },
    {
      "cell_type": "markdown",
      "metadata": {
        "id": "31ZwdUNnfYyN"
      },
      "source": [
        " c) Write a function unique to find all the unique elements of a list."
      ]
    },
    {
      "cell_type": "code",
      "metadata": {
        "colab": {
          "base_uri": "https://localhost:8080/"
        },
        "id": "jsnK0F0VgCI9",
        "outputId": "debdfb65-7a4d-4c4b-8f10-cf1e27e2d4f5"
      },
      "source": [
        " \n",
        "from collections import Counter\n",
        "def unique(lst):\n",
        "    print(*Counter(lst))\n",
        "lst = [] \n",
        "lst = [int(item) for item in input(\"Enter the list items : \").split()] \n",
        "print(\"the unique values from list is\")\n",
        "unique(lst)"
      ],
      "execution_count": null,
      "outputs": [
        {
          "output_type": "stream",
          "text": [
            "Enter the list items : 20 20 4 058 3 1 4\n",
            "the unique values from list is\n",
            "20 4 58 3 1\n"
          ],
          "name": "stdout"
        }
      ]
    },
    {
      "cell_type": "markdown",
      "metadata": {
        "id": "wq1zS9moM5uW"
      },
      "source": [
        "EXCERCISE-10:FUNCTIONS PROBLEMS SOLVING\n",
        "\n",
        "a)Write a function cumulative product to compute cumulative product of a list of numbers."
      ]
    },
    {
      "cell_type": "code",
      "metadata": {
        "colab": {
          "base_uri": "https://localhost:8080/"
        },
        "id": "MzPmlOASyGEr",
        "outputId": "07d12ae0-6b97-45e0-8aad-0d0264f7b501"
      },
      "source": [
        "def Cumulative_sum(lst):   \n",
        "    cum_list = []   \n",
        "    length = len(lst)   \n",
        "    cum_list = [sum(lst[0:x:1]) for x in range(0, length+1)]   \n",
        "    return cum_list[1:]  \n",
        "lst = [] \n",
        "lst = [int(item) for item in input(\"Enter the list items : \").split()] \n",
        "print (Cumulative_sum(lst))"
      ],
      "execution_count": null,
      "outputs": [
        {
          "output_type": "stream",
          "text": [
            "Enter the list items : 5 4  1 2\n",
            "[5, 9, 10, 12]\n"
          ],
          "name": "stdout"
        }
      ]
    },
    {
      "cell_type": "markdown",
      "metadata": {
        "id": "B4b66TuvyLQG"
      },
      "source": [
        "b)Write a function reverse to reverse a list. Without using the reverse function."
      ]
    },
    {
      "cell_type": "code",
      "metadata": {
        "colab": {
          "base_uri": "https://localhost:8080/"
        },
        "id": "q46mt1jw5LR_",
        "outputId": "0b900739-61da-40c3-f950-62bd0004e8d1"
      },
      "source": [
        "def Reverse(lst):\n",
        "    new_lst = lst[::-1]\n",
        "    return new_lst\n",
        "lst = [] \n",
        "lst = [int(item) for item in input(\"Enter the list items : \").split()] \n",
        "print(Reverse(lst))"
      ],
      "execution_count": null,
      "outputs": [
        {
          "output_type": "stream",
          "text": [
            "Enter the list items : 2 5 4 2 4 5 4\n",
            "[4, 5, 4, 2, 4, 5, 2]\n"
          ],
          "name": "stdout"
        }
      ]
    },
    {
      "cell_type": "markdown",
      "metadata": {
        "id": "MIxaxBhQ51Ys"
      },
      "source": [
        "c) Write function to compute ged, lem of two numbers. Each function shouldn't exceed one line."
      ]
    },
    {
      "cell_type": "code",
      "metadata": {
        "colab": {
          "base_uri": "https://localhost:8080/"
        },
        "id": "y6J5VjAx57kd",
        "outputId": "4b6c0b20-2def-49aa-d84c-b8b9f0e779cc"
      },
      "source": [
        "import math\n",
        "a=int(input(\"Enter a:\"))\n",
        "b=int(input(\"Enter b:\"))\n",
        "print (\"The gcd of a and b is : \",end=\"\")\n",
        "print (math.gcd(a,b))\n",
        "def lcm(a, b):\n",
        "    return a * b / gcd(a, b)\n",
        "print('lcm of a &b is:',lcm(a,b))"
      ],
      "execution_count": null,
      "outputs": [
        {
          "output_type": "stream",
          "text": [
            "Enter a:2\n",
            "Enter b:3\n",
            "The gcd of a and b is : 1\n",
            "lcm of a &b is: 6.0\n"
          ],
          "name": "stdout"
        }
      ]
    }
  ]
}